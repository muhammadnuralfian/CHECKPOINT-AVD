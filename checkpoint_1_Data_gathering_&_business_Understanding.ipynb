{
  "nbformat": 4,
  "nbformat_minor": 0,
  "metadata": {
    "colab": {
      "provenance": []
    },
    "kernelspec": {
      "name": "python3",
      "display_name": "Python 3"
    },
    "language_info": {
      "name": "python"
    }
  },
  "cells": [
    {
      "cell_type": "markdown",
      "source": [
        "# BUSINESS UNDERSTANDING"
      ],
      "metadata": {
        "id": "raAwVt8sdBQ6"
      }
    },
    {
      "cell_type": "markdown",
      "source": [
        "# BUSINESS OBJECTIVE"
      ],
      "metadata": {
        "id": "svVlhQ-FdGNh"
      }
    },
    {
      "cell_type": "markdown",
      "source": [
        "Tujuan utama proyek ini adalah Memprediksi risiko penyakit jantung berdasarkan faktor-faktor kesehatan untuk membantu dalam deteksi dini, pengambilan keputusan medis, serta rekomendasi preventif bagi individu berisiko tinggi guna mengurangi angka kejadian penyakit jantung.\n",
        "\n",
        "\n",
        "\n",
        "\n",
        "\n",
        "\n",
        "\n"
      ],
      "metadata": {
        "id": "tq0K_nS4dL93"
      }
    },
    {
      "cell_type": "markdown",
      "source": [
        "# Assess Situation"
      ],
      "metadata": {
        "id": "AbDlbv5AkItn"
      }
    },
    {
      "cell_type": "markdown",
      "source": [
        "Penyakit kardiovaskular (CVD) adalah penyebab utama kematian global, dengan 17,9 juta kematian setiap tahun, di mana 80% disebabkan oleh serangan jantung dan stroke.,serta beberapa indikator lain yang terkait dengan kondisi jantung. Data ini mencakup faktor risiko utama dan memiliki label target, yaitu HeartDisease, yang menunjukkan apakah seseorang memiliki penyakit jantung atau tidak, sehingga deteksi dini sangat penting. Dataset ini berisi fitur yang dapat digunakan untuk memprediksi risiko penyakit jantung, dengan mendeteksi individu lebih awal,tindakan pencegahan dapat dilakukan untuk menghindari komplikasi dan menurunkan angka kematian."
      ],
      "metadata": {
        "id": "tLSF8O3clLtP"
      }
    },
    {
      "cell_type": "markdown",
      "source": [
        "# Data Mining Goals"
      ],
      "metadata": {
        "id": "mldxT7rrlSVI"
      }
    },
    {
      "cell_type": "markdown",
      "source": [
        "Melakukan eksplorasi dan pemodelan prediktif untuk mengidentifikasi faktor-faktor utama yang meningkatkan risiko penyakit jantung. Model yang dibangun harus mampu memberikan prediksi akurat tentang kemungkinan seseorang mengalami penyakit jantung berdasarkan fitur yang tersedia. Selain itu, hasil analisis ini dapat digunakan untuk memberikan wawasan kepada tenaga medis dan individu dalam mengambil langkah-langkah preventif guna mengurangi risiko penyakit jantung."
      ],
      "metadata": {
        "id": "ZVvS1A8alaR1"
      }
    },
    {
      "cell_type": "markdown",
      "source": [
        "# Project Plan"
      ],
      "metadata": {
        "id": "2vSrhg5ZlewE"
      }
    },
    {
      "cell_type": "markdown",
      "source": [
        "1.Problem Understanding\n",
        "Menentukan tujuan bisnis untuk deteksi dini penyakit jantung, memahami struktur data, dan menetapkan target data mining.\n",
        "\n",
        "2.Data Understanding\n",
        "Mengeksplorasi dataset untuk mengidentifikasi pola, distribusi data, serta hubungan antara variabel dengan HeartDisease.\n",
        "\n",
        "3.Data Preparation\n",
        "Membersihkan data, menangani nilai kosong, mengonversi variabel kategori, serta membagi dataset menjadi training dan testing.\n",
        "\n",
        "4.Modeling\n",
        "Mencoba berbagai algoritma machine learning (Logistic Regression, Decision Tree, Random Forest) dan mengevaluasi kinerjanya menggunakan accuracy, precision, recall, dan F1-score.\n",
        "\n",
        "5.Evaluation\n",
        "Memilih model terbaik berdasarkan hasil evaluasi, menginterpretasikan faktor risiko utama, serta memastikan model tidak overfitting.\n",
        "\n",
        "6.Deployment & Monitoring\n",
        "Mengembangkan sistem prediksi, menguji model di dunia nyata, serta melakukan pembaruan data secara berkala untuk menjaga akurasi.\n",
        "\n",
        "7.Documentation & Reporting\n",
        "Menyusun laporan akhir yang mencakup analisis, hasil model, serta rekomendasi untuk tenaga medis dan pengguna akhir."
      ],
      "metadata": {
        "id": "sezew7yEtL5k"
      }
    }
  ]
}